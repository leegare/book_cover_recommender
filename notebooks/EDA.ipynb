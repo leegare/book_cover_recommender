{
 "cells": [
  {
   "cell_type": "markdown",
   "metadata": {},
   "source": [
    "# EDA\n",
    "\n",
    "## Resize images"
   ]
  },
  {
   "cell_type": "code",
   "execution_count": 1,
   "metadata": {},
   "outputs": [
    {
     "name": "stderr",
     "output_type": "stream",
     "text": [
      "Using TensorFlow backend.\n"
     ]
    }
   ],
   "source": [
    "import os\n",
    "import os.path   # To check if the cover image file exists\n",
    "\n",
    "import pandas as pd\n",
    "import matplotlib.pyplot as plt\n",
    "import seaborn as sns\n",
    "# from scipy.misc import imread, imresize, imshow\n",
    "import numpy as np\n",
    "from time import time\n",
    "\n",
    "from PIL import Image # To resize the cover images.\n",
    "\n",
    "# from hashlib import md5\n",
    "# import glob # grab only jpegs\n",
    "import warnings\n",
    "warnings.filterwarnings('ignore')\n",
    "\n",
    "from myfunk import *\n",
    "\n",
    "%matplotlib inline"
   ]
  },
  {
   "cell_type": "code",
   "execution_count": 4,
   "metadata": {},
   "outputs": [],
   "source": [
    "from pylab import rcParams\n",
    "plt_update = {'font.size':16,\n",
    "              'xtick.labelsize':14,\n",
    "              'ytick.labelsize':14,\n",
    "              'figure.figsize':[10.0,5.0],\n",
    "              'axes.labelsize':20,\n",
    "              'axes.titlesize':20,\n",
    "              'lines.linewidth':3, \n",
    "              'legend.fontsize':28}\n",
    "sns.set(style=\"darkgrid\", color_codes=True)\n",
    "plt.rcParams.update(plt_update)\n",
    "\n",
    "sns.set_style('whitegrid')"
   ]
  },
  {
   "cell_type": "code",
   "execution_count": 9,
   "metadata": {},
   "outputs": [
    {
     "name": "stdout",
     "output_type": "stream",
     "text": [
      "/Users/iZbra1/Documents/K2DS/Projects/book_cover_recommender\n",
      "5836\n",
      "(5836, 9)\n"
     ]
    },
    {
     "data": {
      "text/html": [
       "<div>\n",
       "<style scoped>\n",
       "    .dataframe tbody tr th:only-of-type {\n",
       "        vertical-align: middle;\n",
       "    }\n",
       "\n",
       "    .dataframe tbody tr th {\n",
       "        vertical-align: top;\n",
       "    }\n",
       "\n",
       "    .dataframe thead th {\n",
       "        text-align: right;\n",
       "    }\n",
       "</style>\n",
       "<table border=\"1\" class=\"dataframe\">\n",
       "  <thead>\n",
       "    <tr style=\"text-align: right;\">\n",
       "      <th></th>\n",
       "      <th>isbn</th>\n",
       "      <th>authors</th>\n",
       "      <th>year</th>\n",
       "      <th>title</th>\n",
       "      <th>cover</th>\n",
       "      <th>avg_rating</th>\n",
       "      <th>tot_rating</th>\n",
       "      <th>height</th>\n",
       "      <th>width</th>\n",
       "    </tr>\n",
       "    <tr>\n",
       "      <th>book_id</th>\n",
       "      <th></th>\n",
       "      <th></th>\n",
       "      <th></th>\n",
       "      <th></th>\n",
       "      <th></th>\n",
       "      <th></th>\n",
       "      <th></th>\n",
       "      <th></th>\n",
       "      <th></th>\n",
       "    </tr>\n",
       "  </thead>\n",
       "  <tbody>\n",
       "    <tr>\n",
       "      <th>1</th>\n",
       "      <td>439023483</td>\n",
       "      <td>suzanne collins</td>\n",
       "      <td>2008</td>\n",
       "      <td>the hunger games the hunger games 1</td>\n",
       "      <td>the hunger games the hunger games 1 by suzanne...</td>\n",
       "      <td>4.279707</td>\n",
       "      <td>22806</td>\n",
       "      <td>146</td>\n",
       "      <td>98</td>\n",
       "    </tr>\n",
       "    <tr>\n",
       "      <th>2</th>\n",
       "      <td>439554934</td>\n",
       "      <td>jk rowling mary grandpre</td>\n",
       "      <td>1997</td>\n",
       "      <td>harry potter and the sorcerers stone harry pot...</td>\n",
       "      <td>harry potter and the sorcerers stone harry pot...</td>\n",
       "      <td>4.351350</td>\n",
       "      <td>21850</td>\n",
       "      <td>147</td>\n",
       "      <td>98</td>\n",
       "    </tr>\n",
       "  </tbody>\n",
       "</table>\n",
       "</div>"
      ],
      "text/plain": [
       "              isbn                   authors  year  \\\n",
       "book_id                                              \n",
       "1        439023483           suzanne collins  2008   \n",
       "2        439554934  jk rowling mary grandpre  1997   \n",
       "\n",
       "                                                     title  \\\n",
       "book_id                                                      \n",
       "1                      the hunger games the hunger games 1   \n",
       "2        harry potter and the sorcerers stone harry pot...   \n",
       "\n",
       "                                                     cover  avg_rating  \\\n",
       "book_id                                                                  \n",
       "1        the hunger games the hunger games 1 by suzanne...    4.279707   \n",
       "2        harry potter and the sorcerers stone harry pot...    4.351350   \n",
       "\n",
       "         tot_rating  height  width  \n",
       "book_id                             \n",
       "1             22806     146     98  \n",
       "2             21850     147     98  "
      ]
     },
     "execution_count": 9,
     "metadata": {},
     "output_type": "execute_result"
    }
   ],
   "source": [
    "project_name = 'book_cover_recommender'\n",
    "\n",
    "if not os.getcwd().endswith(project_name):\n",
    "    try: \n",
    "        ind = os.getcwd().index(project_name)\n",
    "        idx = len(os.getcwd()) - (ind+len(project_name))\n",
    "        path = os.getcwd()[:-idx]\n",
    "        print(path)\n",
    "        os.chdir(path)\n",
    "    except:\n",
    "        print('{} not found in path'.format(project_name))\n",
    "else: \n",
    "    path = os.getcwd()\n",
    "    print(path)\n",
    "\n",
    "pth = \"/Users/iZbra1/Documents/K2DS/Projects/book_cover_recommender/data/raw/covers/\"\n",
    "\n",
    "# Variables\n",
    "image_files = [f for f in glob.glob(path+\"/data/raw/covers/*.jpg\")]\n",
    "print(len(image_files))\n",
    "\n",
    "data = pd.read_csv(path+\"/data/interim/books.csv\", index_col=0)\n",
    "print(data.shape)\n",
    "data.head(2)"
   ]
  },
  {
   "cell_type": "code",
   "execution_count": 10,
   "metadata": {},
   "outputs": [
    {
     "data": {
      "image/png": "[encoded data removed]",
      "text/plain": [
       "<Figure size 1440x432 with 2 Axes>"
      ]
     },
     "metadata": {},
     "output_type": "display_data"
    }
   ],
   "source": [
    "# Check the size of the cover images\n",
    "# create 2 subplots (vertically stacked)\n",
    "f, axarr = plt.subplots(1,2,figsize=(20,6))\n",
    "# plot hist of sample means for first var on the top subplot\n",
    "axarr[0].hist(data['height'],normed=True, bins='auto')\n",
    "# plot hist of sample means for second var on the top subplot\n",
    "axarr[1].hist(data['width'],normed=True,bins='auto')\n",
    "axarr[1].set(xlabel = 'Width', title = \"µ = \"+ str(round(data.width.mean(),0)))\n",
    "\n",
    "axarr[0].set(title=\"µ = \" + str(round(data.height.mean(),0)),\n",
    "       xlabel=\"Height\")\n",
    "\n",
    "plt.show()"
   ]
  },
  {
   "cell_type": "markdown",
   "metadata": {},
   "source": [
    "the following code might not be necessary. Images can be resized prior to being analized. "
   ]
  },
  {
   "cell_type": "code",
   "execution_count": 6,
   "metadata": {},
   "outputs": [
    {
     "data": {
      "text/plain": [
       "'/Users/iZbra1/Documents/K2DS/Projects/book_cover_recommender/data/raw/covers/'"
      ]
     },
     "execution_count": 6,
     "metadata": {},
     "output_type": "execute_result"
    }
   ],
   "source": [
    "pth"
   ]
  },
  {
   "cell_type": "code",
   "execution_count": 13,
   "metadata": {},
   "outputs": [],
   "source": [
    "# Move cover images to processed folder\n",
    "os.chdir(pth)\n",
    "# Resizing to 149x98\n",
    "cover_resize(image_files, width=98, height=149)\n",
    "# Update the changes in the dataframe\n",
    "data.height = 149\n",
    "data.width = 98\n"
   ]
  },
  {
   "cell_type": "code",
   "execution_count": 14,
   "metadata": {},
   "outputs": [
    {
     "data": {
      "text/html": [
       "<div>\n",
       "<style scoped>\n",
       "    .dataframe tbody tr th:only-of-type {\n",
       "        vertical-align: middle;\n",
       "    }\n",
       "\n",
       "    .dataframe tbody tr th {\n",
       "        vertical-align: top;\n",
       "    }\n",
       "\n",
       "    .dataframe thead th {\n",
       "        text-align: right;\n",
       "    }\n",
       "</style>\n",
       "<table border=\"1\" class=\"dataframe\">\n",
       "  <thead>\n",
       "    <tr style=\"text-align: right;\">\n",
       "      <th></th>\n",
       "      <th>isbn</th>\n",
       "      <th>authors</th>\n",
       "      <th>year</th>\n",
       "      <th>title</th>\n",
       "      <th>cover</th>\n",
       "      <th>avg_rating</th>\n",
       "      <th>tot_rating</th>\n",
       "      <th>height</th>\n",
       "      <th>width</th>\n",
       "    </tr>\n",
       "    <tr>\n",
       "      <th>book_id</th>\n",
       "      <th></th>\n",
       "      <th></th>\n",
       "      <th></th>\n",
       "      <th></th>\n",
       "      <th></th>\n",
       "      <th></th>\n",
       "      <th></th>\n",
       "      <th></th>\n",
       "      <th></th>\n",
       "    </tr>\n",
       "  </thead>\n",
       "  <tbody>\n",
       "    <tr>\n",
       "      <th>1</th>\n",
       "      <td>439023483</td>\n",
       "      <td>suzanne collins</td>\n",
       "      <td>2008</td>\n",
       "      <td>the hunger games the hunger games 1</td>\n",
       "      <td>the hunger games the hunger games 1 by suzanne...</td>\n",
       "      <td>4.279707</td>\n",
       "      <td>22806</td>\n",
       "      <td>149</td>\n",
       "      <td>98</td>\n",
       "    </tr>\n",
       "    <tr>\n",
       "      <th>2</th>\n",
       "      <td>439554934</td>\n",
       "      <td>jk rowling mary grandpre</td>\n",
       "      <td>1997</td>\n",
       "      <td>harry potter and the sorcerers stone harry pot...</td>\n",
       "      <td>harry potter and the sorcerers stone harry pot...</td>\n",
       "      <td>4.351350</td>\n",
       "      <td>21850</td>\n",
       "      <td>149</td>\n",
       "      <td>98</td>\n",
       "    </tr>\n",
       "    <tr>\n",
       "      <th>3</th>\n",
       "      <td>316015849</td>\n",
       "      <td>stephenie meyer</td>\n",
       "      <td>2005</td>\n",
       "      <td>twilight twilight 1</td>\n",
       "      <td>twilight twilight 1 by stephenie meyer.jpg</td>\n",
       "      <td>3.214341</td>\n",
       "      <td>16931</td>\n",
       "      <td>149</td>\n",
       "      <td>98</td>\n",
       "    </tr>\n",
       "    <tr>\n",
       "      <th>4</th>\n",
       "      <td>61120081</td>\n",
       "      <td>harper lee</td>\n",
       "      <td>1960</td>\n",
       "      <td>to kill a mockingbird</td>\n",
       "      <td>to kill a mockingbird by harper lee.jpg</td>\n",
       "      <td>4.329369</td>\n",
       "      <td>19088</td>\n",
       "      <td>149</td>\n",
       "      <td>98</td>\n",
       "    </tr>\n",
       "    <tr>\n",
       "      <th>5</th>\n",
       "      <td>743273567</td>\n",
       "      <td>f scott fitzgerald</td>\n",
       "      <td>1925</td>\n",
       "      <td>the great gatsby</td>\n",
       "      <td>the great gatsby by f scott fitzgerald.jpg</td>\n",
       "      <td>3.772224</td>\n",
       "      <td>16604</td>\n",
       "      <td>149</td>\n",
       "      <td>98</td>\n",
       "    </tr>\n",
       "  </tbody>\n",
       "</table>\n",
       "</div>"
      ],
      "text/plain": [
       "              isbn                   authors  year  \\\n",
       "book_id                                              \n",
       "1        439023483           suzanne collins  2008   \n",
       "2        439554934  jk rowling mary grandpre  1997   \n",
       "3        316015849           stephenie meyer  2005   \n",
       "4         61120081                harper lee  1960   \n",
       "5        743273567        f scott fitzgerald  1925   \n",
       "\n",
       "                                                     title  \\\n",
       "book_id                                                      \n",
       "1                      the hunger games the hunger games 1   \n",
       "2        harry potter and the sorcerers stone harry pot...   \n",
       "3                                      twilight twilight 1   \n",
       "4                                    to kill a mockingbird   \n",
       "5                                         the great gatsby   \n",
       "\n",
       "                                                     cover  avg_rating  \\\n",
       "book_id                                                                  \n",
       "1        the hunger games the hunger games 1 by suzanne...    4.279707   \n",
       "2        harry potter and the sorcerers stone harry pot...    4.351350   \n",
       "3               twilight twilight 1 by stephenie meyer.jpg    3.214341   \n",
       "4                  to kill a mockingbird by harper lee.jpg    4.329369   \n",
       "5               the great gatsby by f scott fitzgerald.jpg    3.772224   \n",
       "\n",
       "         tot_rating  height  width  \n",
       "book_id                             \n",
       "1             22806     149     98  \n",
       "2             21850     149     98  \n",
       "3             16931     149     98  \n",
       "4             19088     149     98  \n",
       "5             16604     149     98  "
      ]
     },
     "execution_count": 14,
     "metadata": {},
     "output_type": "execute_result"
    }
   ],
   "source": [
    "data.head()"
   ]
  },
  {
   "cell_type": "code",
   "execution_count": 15,
   "metadata": {},
   "outputs": [],
   "source": [
    "# Save to processing storage\n",
    "data.to_csv(path+\"/data/processed/books.csv\")"
   ]
  },
  {
   "cell_type": "code",
   "execution_count": null,
   "metadata": {},
   "outputs": [],
   "source": []
  }
 ],
 "metadata": {
  "kernelspec": {
   "display_name": "Python 3",
   "language": "python",
   "name": "python3"
  },
  "language_info": {
   "codemirror_mode": {
    "name": "ipython",
    "version": 3
   },
   "file_extension": ".py",
   "mimetype": "text/x-python",
   "name": "python",
   "nbconvert_exporter": "python",
   "pygments_lexer": "ipython3",
   "version": "3.7.3"
  }
 },
 "nbformat": 4,
 "nbformat_minor": 2
}
