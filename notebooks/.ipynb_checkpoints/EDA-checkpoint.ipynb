{
 "cells": [
  {
   "cell_type": "markdown",
   "metadata": {},
   "source": [
    "# EDA\n",
    "\n",
    "## Resize images"
   ]
  },
  {
   "cell_type": "code",
   "execution_count": 1,
   "metadata": {},
   "outputs": [
    {
     "name": "stderr",
     "output_type": "stream",
     "text": [
      "Using TensorFlow backend.\n"
     ]
    }
   ],
   "source": [
    "import os\n",
    "import os.path   # To check if the cover image file exists\n",
    "\n",
    "import pandas as pd\n",
    "import matplotlib.pyplot as plt\n",
    "import seaborn as sns\n",
    "# from scipy.misc import imread, imresize, imshow\n",
    "import numpy as np\n",
    "from time import time\n",
    "\n",
    "from PIL import Image # To resize the cover images.\n",
    "\n",
    "# from hashlib import md5\n",
    "# import glob # grab only jpegs\n",
    "import warnings\n",
    "warnings.filterwarnings('ignore')\n",
    "\n",
    "from myfunk import *\n",
    "\n",
    "%matplotlib inline"
   ]
  },
  {
   "cell_type": "code",
   "execution_count": 3,
   "metadata": {},
   "outputs": [
    {
     "name": "stdout",
     "output_type": "stream",
     "text": [
      "/Users/iZbra1/Documents/K2DS/Projects/book_cover_recommender\n",
      "5837\n",
      "(5837, 9)\n"
     ]
    },
    {
     "data": {
      "text/html": [
       "<div>\n",
       "<style scoped>\n",
       "    .dataframe tbody tr th:only-of-type {\n",
       "        vertical-align: middle;\n",
       "    }\n",
       "\n",
       "    .dataframe tbody tr th {\n",
       "        vertical-align: top;\n",
       "    }\n",
       "\n",
       "    .dataframe thead th {\n",
       "        text-align: right;\n",
       "    }\n",
       "</style>\n",
       "<table border=\"1\" class=\"dataframe\">\n",
       "  <thead>\n",
       "    <tr style=\"text-align: right;\">\n",
       "      <th></th>\n",
       "      <th>isbn</th>\n",
       "      <th>authors</th>\n",
       "      <th>year</th>\n",
       "      <th>title</th>\n",
       "      <th>covers</th>\n",
       "      <th>avg_rating</th>\n",
       "      <th>tot_rating</th>\n",
       "      <th>height</th>\n",
       "      <th>width</th>\n",
       "    </tr>\n",
       "    <tr>\n",
       "      <th>book_id</th>\n",
       "      <th></th>\n",
       "      <th></th>\n",
       "      <th></th>\n",
       "      <th></th>\n",
       "      <th></th>\n",
       "      <th></th>\n",
       "      <th></th>\n",
       "      <th></th>\n",
       "      <th></th>\n",
       "    </tr>\n",
       "  </thead>\n",
       "  <tbody>\n",
       "    <tr>\n",
       "      <th>1</th>\n",
       "      <td>439023483</td>\n",
       "      <td>suzanne collins</td>\n",
       "      <td>2008</td>\n",
       "      <td>the hunger games the hunger games 1</td>\n",
       "      <td>the hunger games the hunger games 1 by suzanne...</td>\n",
       "      <td>4.279707</td>\n",
       "      <td>22806</td>\n",
       "      <td>146</td>\n",
       "      <td>98</td>\n",
       "    </tr>\n",
       "    <tr>\n",
       "      <th>2</th>\n",
       "      <td>439554934</td>\n",
       "      <td>jk rowling mary grandpre</td>\n",
       "      <td>1997</td>\n",
       "      <td>harry potter and the sorcerers stone harry pot...</td>\n",
       "      <td>harry potter and the sorcerers stone harry pot...</td>\n",
       "      <td>4.351350</td>\n",
       "      <td>21850</td>\n",
       "      <td>147</td>\n",
       "      <td>98</td>\n",
       "    </tr>\n",
       "  </tbody>\n",
       "</table>\n",
       "</div>"
      ],
      "text/plain": [
       "              isbn                   authors  year  \\\n",
       "book_id                                              \n",
       "1        439023483           suzanne collins  2008   \n",
       "2        439554934  jk rowling mary grandpre  1997   \n",
       "\n",
       "                                                     title  \\\n",
       "book_id                                                      \n",
       "1                      the hunger games the hunger games 1   \n",
       "2        harry potter and the sorcerers stone harry pot...   \n",
       "\n",
       "                                                    covers  avg_rating  \\\n",
       "book_id                                                                  \n",
       "1        the hunger games the hunger games 1 by suzanne...    4.279707   \n",
       "2        harry potter and the sorcerers stone harry pot...    4.351350   \n",
       "\n",
       "         tot_rating  height  width  \n",
       "book_id                             \n",
       "1             22806     146     98  \n",
       "2             21850     147     98  "
      ]
     },
     "execution_count": 3,
     "metadata": {},
     "output_type": "execute_result"
    }
   ],
   "source": [
    "project_name = 'book_cover_recommender'\n",
    "\n",
    "if not os.getcwd().endswith(project_name):\n",
    "    try: \n",
    "        ind = os.getcwd().index(project_name)\n",
    "        idx = len(os.getcwd()) - (ind+len(project_name))\n",
    "        path = os.getcwd()[:-idx]\n",
    "        print(path)\n",
    "        os.chdir(path)\n",
    "    except:\n",
    "        print('{} not found in path'.format(project_name))\n",
    "else: \n",
    "    path = os.getcwd()\n",
    "    print(path)\n",
    "\n",
    "pth = \"/Users/iZbra1/Documents/K2DS/Projects/book_cover_recommender/data/raw/covers/\"\n",
    "\n",
    "# Variables\n",
    "image_files = [f for f in glob.glob(path+\"/data/raw/covers/*.jpg\")]\n",
    "print(len(image_files))\n",
    "\n",
    "data = pd.read_csv(path+\"/data/interim/books.csv\", index_col=0)\n",
    "print(data.shape)\n",
    "data.head(2)"
   ]
  },
  {
   "cell_type": "code",
   "execution_count": 17,
   "metadata": {},
   "outputs": [
    {
     "data": {
      "image/png": "[encoded data removed]",
      "text/plain": [
       "<matplotlib.figure.Figure at 0x1a306846a0>"
      ]
     },
     "metadata": {},
     "output_type": "display_data"
    }
   ],
   "source": [
    "# Check the size of the cover images\n",
    "# create 2 subplots (vertically stacked)\n",
    "f, axarr = plt.subplots(1,2,figsize=(20,6))\n",
    "# plot hist of sample means for first var on the top subplot\n",
    "axarr[0].hist(data['height'],normed=True, bins='auto')\n",
    "# plot hist of sample means for second var on the top subplot\n",
    "axarr[1].hist(data['width'],normed=True,bins='auto')\n",
    "axarr[1].set(xlabel = 'Width', title = \"µ = \"+ str(round(data.width.mean(),0)))\n",
    "\n",
    "axarr[0].set(title=\"µ = \" + str(round(data.height.mean(),0)),\n",
    "       xlabel=\"Height\")\n",
    "\n",
    "plt.show()"
   ]
  },
  {
   "cell_type": "markdown",
   "metadata": {},
   "source": [
    "the following code might not be necessary. Images can be resized prior to being analized. "
   ]
  },
  {
   "cell_type": "code",
   "execution_count": null,
   "metadata": {},
   "outputs": [],
   "source": [
    "# Move cover images to processed folder\n",
    "os.chdir(pth)\n",
    "# Resizing to 149x98\n",
    "cover_resize(image_files, width=98, height=149)\n",
    "# Update the changes in the dataframe\n",
    "data.height = 149\n",
    "data.width = 98\n"
   ]
  }
 ],
 "metadata": {
  "kernelspec": {
   "display_name": "Python 3",
   "language": "python",
   "name": "python3"
  },
  "language_info": {
   "codemirror_mode": {
    "name": "ipython",
    "version": 3
   },
   "file_extension": ".py",
   "mimetype": "text/x-python",
   "name": "python",
   "nbconvert_exporter": "python",
   "pygments_lexer": "ipython3",
   "version": "3.6.4"
  }
 },
 "nbformat": 4,
 "nbformat_minor": 2
}
