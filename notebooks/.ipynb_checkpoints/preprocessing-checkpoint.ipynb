{
 "cells": [
  {
   "cell_type": "markdown",
   "metadata": {},
   "source": [
    "https://www.youtube.com/watch?v=8rcVcH4OTdo&list=WL&index=75&t=0s"
   ]
  },
  {
   "cell_type": "code",
   "execution_count": 1,
   "metadata": {},
   "outputs": [
    {
     "name": "stderr",
     "output_type": "stream",
     "text": [
      "Using TensorFlow backend.\n"
     ]
    }
   ],
   "source": [
    "import os\n",
    "import os.path   # To check if the cover image file exists\n",
    "\n",
    "import pandas as pd\n",
    "import matplotlib.pyplot as plt\n",
    "# from scipy.misc import imread, imresize, imshow\n",
    "import numpy as np\n",
    "\n",
    "from PIL import Image # To resize the cover images.\n",
    "\n",
    "# from hashlib import md5\n",
    "# import glob # grab only jpegs\n",
    "import warnings\n",
    "warnings.filterwarnings('ignore')\n",
    "\n",
    "from myfunk import *\n",
    "\n",
    "%matplotlib inline"
   ]
  },
  {
   "cell_type": "code",
   "execution_count": 2,
   "metadata": {},
   "outputs": [
    {
     "name": "stdout",
     "output_type": "stream",
     "text": [
      "/Users/iZbra1/Documents/K2DS/Projects/book_cover_recommender\n",
      "(100, 9)\n"
     ]
    },
    {
     "data": {
      "text/html": [
       "<div>\n",
       "<style scoped>\n",
       "    .dataframe tbody tr th:only-of-type {\n",
       "        vertical-align: middle;\n",
       "    }\n",
       "\n",
       "    .dataframe tbody tr th {\n",
       "        vertical-align: top;\n",
       "    }\n",
       "\n",
       "    .dataframe thead th {\n",
       "        text-align: right;\n",
       "    }\n",
       "</style>\n",
       "<table border=\"1\" class=\"dataframe\">\n",
       "  <thead>\n",
       "    <tr style=\"text-align: right;\">\n",
       "      <th></th>\n",
       "      <th>isbn</th>\n",
       "      <th>authors</th>\n",
       "      <th>year</th>\n",
       "      <th>title</th>\n",
       "      <th>average_rating</th>\n",
       "      <th>ratings_count</th>\n",
       "      <th>image_url</th>\n",
       "      <th>cover_exists</th>\n",
       "      <th>cover</th>\n",
       "    </tr>\n",
       "    <tr>\n",
       "      <th>book_id</th>\n",
       "      <th></th>\n",
       "      <th></th>\n",
       "      <th></th>\n",
       "      <th></th>\n",
       "      <th></th>\n",
       "      <th></th>\n",
       "      <th></th>\n",
       "      <th></th>\n",
       "      <th></th>\n",
       "    </tr>\n",
       "  </thead>\n",
       "  <tbody>\n",
       "    <tr>\n",
       "      <th>1</th>\n",
       "      <td>439023483</td>\n",
       "      <td>suzanne collins</td>\n",
       "      <td>2008</td>\n",
       "      <td>the hunger games the hunger games 1</td>\n",
       "      <td>4.34</td>\n",
       "      <td>4780653</td>\n",
       "      <td>https://images.gr-assets.com/books/1447303603m...</td>\n",
       "      <td>True</td>\n",
       "      <td>the hunger games the hunger games 1 by suzanne...</td>\n",
       "    </tr>\n",
       "    <tr>\n",
       "      <th>2</th>\n",
       "      <td>439554934</td>\n",
       "      <td>jk rowling mary grandpre</td>\n",
       "      <td>1997</td>\n",
       "      <td>harry potter and the sorcerers stone harry pot...</td>\n",
       "      <td>4.44</td>\n",
       "      <td>4602479</td>\n",
       "      <td>https://images.gr-assets.com/books/1474154022m...</td>\n",
       "      <td>True</td>\n",
       "      <td>harry potter and the sorcerers stone harry pot...</td>\n",
       "    </tr>\n",
       "  </tbody>\n",
       "</table>\n",
       "</div>"
      ],
      "text/plain": [
       "              isbn                   authors  year  \\\n",
       "book_id                                              \n",
       "1        439023483           suzanne collins  2008   \n",
       "2        439554934  jk rowling mary grandpre  1997   \n",
       "\n",
       "                                                     title  average_rating  \\\n",
       "book_id                                                                      \n",
       "1                      the hunger games the hunger games 1            4.34   \n",
       "2        harry potter and the sorcerers stone harry pot...            4.44   \n",
       "\n",
       "         ratings_count                                          image_url  \\\n",
       "book_id                                                                     \n",
       "1              4780653  https://images.gr-assets.com/books/1447303603m...   \n",
       "2              4602479  https://images.gr-assets.com/books/1474154022m...   \n",
       "\n",
       "         cover_exists                                              cover  \n",
       "book_id                                                                   \n",
       "1                True  the hunger games the hunger games 1 by suzanne...  \n",
       "2                True  harry potter and the sorcerers stone harry pot...  "
      ]
     },
     "execution_count": 2,
     "metadata": {},
     "output_type": "execute_result"
    }
   ],
   "source": [
    "# Check Path\n",
    "\n",
    "project_name = 'book_cover_recommender'\n",
    "\n",
    "if not os.getcwd().endswith(project_name):\n",
    "    try: \n",
    "        ind = os.getcwd().index(project_name)\n",
    "        idx = len(os.getcwd()) - (ind+len(project_name))\n",
    "        path = os.getcwd()[:-idx]\n",
    "        print(path)\n",
    "        os.chdir(path)\n",
    "    except:\n",
    "        print('{} not found in path'.format(project_name))\n",
    "else: \n",
    "    path = os.getcwd()\n",
    "    print(path)\n",
    "    \n",
    "data = pd.read_csv(path+\"/data/interim/books_sample.csv\", index_col=0)\n",
    "print(data.shape)\n",
    "data.head(2)"
   ]
  },
  {
   "cell_type": "code",
   "execution_count": 3,
   "metadata": {},
   "outputs": [
    {
     "name": "stdout",
     "output_type": "stream",
     "text": [
      "the odyssey by homer robert fagles ev rieu frederic mugler bernard knox.jpg\n"
     ]
    }
   ],
   "source": [
    "for inst in data.loc[(data.year==0)].cover.values:\n",
    "    print(inst)"
   ]
  },
  {
   "cell_type": "code",
   "execution_count": 4,
   "metadata": {},
   "outputs": [
    {
     "data": {
      "text/plain": [
       "(99, 9)"
      ]
     },
     "execution_count": 4,
     "metadata": {},
     "output_type": "execute_result"
    }
   ],
   "source": [
    "# There are values where the year is 0, for now we'll remove them. \n",
    "data = data.loc[~(data.year==0)]\n",
    "data.shape"
   ]
  },
  {
   "cell_type": "code",
   "execution_count": 5,
   "metadata": {},
   "outputs": [
    {
     "name": "stdout",
     "output_type": "stream",
     "text": [
      "93\n"
     ]
    }
   ],
   "source": [
    "### Assumption: All downloaded images are encoded in RGB\n",
    "os.chdir(path+\"/data/external/covers\")\n",
    "image_files = [f for f in glob.glob('*.jpg')]\n",
    "print(len(image_files))"
   ]
  },
  {
   "cell_type": "code",
   "execution_count": 6,
   "metadata": {},
   "outputs": [
    {
     "name": "stdout",
     "output_type": "stream",
     "text": [
      "All covers are unique\n"
     ]
    }
   ],
   "source": [
    "## --- Remove cover dupes (a.k.a covers that were not found)\n",
    "\n",
    "# Any little change in intensity yields two hashes \n",
    "duplicates, ds_dict, hash_ds = get_hash(image_files)\n",
    "\n",
    "if len(duplicates)>0:\n",
    "    data = remove_dupes(data, duplicates)\n",
    "    print('Removed duplicates',data.shape)\n",
    "else: \n",
    "    print('All covers are unique')"
   ]
  },
  {
   "cell_type": "code",
   "execution_count": 7,
   "metadata": {},
   "outputs": [
    {
     "name": "stdout",
     "output_type": "stream",
     "text": [
      "Number of images doesnt correspond to the number of books in the dataset <class 'AssertionError'>\n",
      "Number of cover images in storage: 93 \n",
      "Number of instances: 99\n"
     ]
    }
   ],
   "source": [
    "## Sanity check \n",
    "## ---- Check if all instances have their book covers. \n",
    "data['cover_exists'] = data.cover.apply(lambda x: os.path.isfile(os.getcwd()+'/'+x))\n",
    "\n",
    "try: \n",
    "    assert data.loc[data.cover_exists==False].shape[0] == 0\n",
    "    print('Sanity check passed!')\n",
    "except AssertionError as e:\n",
    "    print('Number of images doesnt correspond to the number of books in the dataset', type(e))\n",
    "\n",
    "# Sanity check\n",
    "image_files = [f for f in glob.glob('*.jpg')]\n",
    "try:\n",
    "    assert len(image_files) == data.shape[0]\n",
    "    print('Sanity check passed!')\n",
    "except AssertionError: \n",
    "    print('Number of cover images in storage:', len(image_files), '\\nNumber of instances:', data.shape[0])"
   ]
  },
  {
   "cell_type": "code",
   "execution_count": 11,
   "metadata": {},
   "outputs": [],
   "source": [
    "# If # of images in storage > # of instances: \n",
    "# Get the images in storage that are not in the dataset: \n",
    "os.chdir(path+\"/data/external/covers\")\n",
    "data_covers = [row.cover for _, row in data.iterrows()]\n",
    "rm_Img = [im for im in image_files if im not in data_covers]\n",
    "if rm_Img != []:\n",
    "    remove_cover_images(rm_Img)\n"
   ]
  },
  {
   "cell_type": "code",
   "execution_count": 15,
   "metadata": {},
   "outputs": [
    {
     "data": {
      "text/plain": [
       "(93, 9)"
      ]
     },
     "execution_count": 15,
     "metadata": {},
     "output_type": "execute_result"
    }
   ],
   "source": [
    "# If # of images in storage < # of instances: \n",
    "# Update dataset by removing books that dont have a cover saved\n",
    "data = data.loc[data.cover_exists==True]\n",
    "data.shape"
   ]
  },
  {
   "cell_type": "code",
   "execution_count": 16,
   "metadata": {},
   "outputs": [
    {
     "name": "stdout",
     "output_type": "stream",
     "text": [
      "(93, 9)\n"
     ]
    },
    {
     "data": {
      "text/html": [
       "<div>\n",
       "<style scoped>\n",
       "    .dataframe tbody tr th:only-of-type {\n",
       "        vertical-align: middle;\n",
       "    }\n",
       "\n",
       "    .dataframe tbody tr th {\n",
       "        vertical-align: top;\n",
       "    }\n",
       "\n",
       "    .dataframe thead th {\n",
       "        text-align: right;\n",
       "    }\n",
       "</style>\n",
       "<table border=\"1\" class=\"dataframe\">\n",
       "  <thead>\n",
       "    <tr style=\"text-align: right;\">\n",
       "      <th></th>\n",
       "      <th>isbn</th>\n",
       "      <th>authors</th>\n",
       "      <th>year</th>\n",
       "      <th>title</th>\n",
       "      <th>average_rating</th>\n",
       "      <th>ratings_count</th>\n",
       "      <th>cover</th>\n",
       "      <th>height</th>\n",
       "      <th>width</th>\n",
       "    </tr>\n",
       "    <tr>\n",
       "      <th>book_id</th>\n",
       "      <th></th>\n",
       "      <th></th>\n",
       "      <th></th>\n",
       "      <th></th>\n",
       "      <th></th>\n",
       "      <th></th>\n",
       "      <th></th>\n",
       "      <th></th>\n",
       "      <th></th>\n",
       "    </tr>\n",
       "  </thead>\n",
       "  <tbody>\n",
       "    <tr>\n",
       "      <th>1</th>\n",
       "      <td>439023483</td>\n",
       "      <td>suzanne collins</td>\n",
       "      <td>2008</td>\n",
       "      <td>the hunger games the hunger games 1</td>\n",
       "      <td>4.34</td>\n",
       "      <td>4780653</td>\n",
       "      <td>the hunger games the hunger games 1 by suzanne...</td>\n",
       "      <td>146</td>\n",
       "      <td>98</td>\n",
       "    </tr>\n",
       "    <tr>\n",
       "      <th>2</th>\n",
       "      <td>439554934</td>\n",
       "      <td>jk rowling mary grandpre</td>\n",
       "      <td>1997</td>\n",
       "      <td>harry potter and the sorcerers stone harry pot...</td>\n",
       "      <td>4.44</td>\n",
       "      <td>4602479</td>\n",
       "      <td>harry potter and the sorcerers stone harry pot...</td>\n",
       "      <td>147</td>\n",
       "      <td>98</td>\n",
       "    </tr>\n",
       "    <tr>\n",
       "      <th>3</th>\n",
       "      <td>316015849</td>\n",
       "      <td>stephenie meyer</td>\n",
       "      <td>2005</td>\n",
       "      <td>twilight twilight 1</td>\n",
       "      <td>3.57</td>\n",
       "      <td>3866839</td>\n",
       "      <td>twilight twilight 1 by stephenie meyer.jpg</td>\n",
       "      <td>147</td>\n",
       "      <td>98</td>\n",
       "    </tr>\n",
       "    <tr>\n",
       "      <th>4</th>\n",
       "      <td>61120081</td>\n",
       "      <td>harper lee</td>\n",
       "      <td>1960</td>\n",
       "      <td>to kill a mockingbird</td>\n",
       "      <td>4.25</td>\n",
       "      <td>3198671</td>\n",
       "      <td>to kill a mockingbird by harper lee.jpg</td>\n",
       "      <td>151</td>\n",
       "      <td>98</td>\n",
       "    </tr>\n",
       "    <tr>\n",
       "      <th>5</th>\n",
       "      <td>743273567</td>\n",
       "      <td>f scott fitzgerald</td>\n",
       "      <td>1925</td>\n",
       "      <td>the great gatsby</td>\n",
       "      <td>3.89</td>\n",
       "      <td>2683664</td>\n",
       "      <td>the great gatsby by f scott fitzgerald.jpg</td>\n",
       "      <td>153</td>\n",
       "      <td>98</td>\n",
       "    </tr>\n",
       "  </tbody>\n",
       "</table>\n",
       "</div>"
      ],
      "text/plain": [
       "              isbn                   authors  year  \\\n",
       "book_id                                              \n",
       "1        439023483           suzanne collins  2008   \n",
       "2        439554934  jk rowling mary grandpre  1997   \n",
       "3        316015849           stephenie meyer  2005   \n",
       "4         61120081                harper lee  1960   \n",
       "5        743273567        f scott fitzgerald  1925   \n",
       "\n",
       "                                                     title  average_rating  \\\n",
       "book_id                                                                      \n",
       "1                      the hunger games the hunger games 1            4.34   \n",
       "2        harry potter and the sorcerers stone harry pot...            4.44   \n",
       "3                                      twilight twilight 1            3.57   \n",
       "4                                    to kill a mockingbird            4.25   \n",
       "5                                         the great gatsby            3.89   \n",
       "\n",
       "         ratings_count                                              cover  \\\n",
       "book_id                                                                     \n",
       "1              4780653  the hunger games the hunger games 1 by suzanne...   \n",
       "2              4602479  harry potter and the sorcerers stone harry pot...   \n",
       "3              3866839         twilight twilight 1 by stephenie meyer.jpg   \n",
       "4              3198671            to kill a mockingbird by harper lee.jpg   \n",
       "5              2683664         the great gatsby by f scott fitzgerald.jpg   \n",
       "\n",
       "         height  width  \n",
       "book_id                 \n",
       "1           146     98  \n",
       "2           147     98  \n",
       "3           147     98  \n",
       "4           151     98  \n",
       "5           153     98  "
      ]
     },
     "execution_count": 16,
     "metadata": {},
     "output_type": "execute_result"
    }
   ],
   "source": [
    "## ---- Preprocess the image covers\n",
    "\n",
    "# Get the size of the covers\n",
    "data['cover_size'] = data.cover.apply(lambda f: imread(f).shape)\n",
    "\n",
    "# Height vs width\n",
    "data['height'] = data.cover_size.apply(lambda x: int(x[0]))\n",
    "data['width'] = data.cover_size.apply(lambda x: int(x[1]))\n",
    "\n",
    "# Drop image_url and cover_size\n",
    "data.drop(['image_url','cover_size', 'cover_exists'], axis=1, inplace=True)\n",
    "print(data.shape)\n",
    "data.head()"
   ]
  },
  {
   "cell_type": "code",
   "execution_count": 11,
   "metadata": {},
   "outputs": [],
   "source": [
    "# data.to_csv(path+\"/data/interim/books.csv\")"
   ]
  },
  {
   "cell_type": "code",
   "execution_count": null,
   "metadata": {},
   "outputs": [],
   "source": [
    "## --- Post processing:\n",
    "# Copy covers folder from external to raw"
   ]
  },
  {
   "cell_type": "code",
   "execution_count": 17,
   "metadata": {},
   "outputs": [],
   "source": [
    "os.chdir(path+\"/data/raw/covers\")"
   ]
  },
  {
   "cell_type": "code",
   "execution_count": 18,
   "metadata": {},
   "outputs": [],
   "source": [
    "# Resizing to 149x98\n",
    "cover_resize(image_files, width=98, height=149)\n",
    "# Update the changes in the dataframe\n",
    "data.height = 149\n",
    "data.width = 98\n"
   ]
  },
  {
   "cell_type": "code",
   "execution_count": 19,
   "metadata": {},
   "outputs": [
    {
     "data": {
      "text/plain": [
       "(935097, 2)"
      ]
     },
     "execution_count": 19,
     "metadata": {},
     "output_type": "execute_result"
    }
   ],
   "source": [
    "data.to_csv(path+\"/data/processed/books.csv\")\n",
    "\n",
    "# Let's drop those ratings to books that are not in the books.csv\n",
    "rat = pd.read_csv(path+\"/data/interim/ratings.csv\", index_col=0)\n",
    "rat = rat.loc[rat.book_id.isin(data.index)]\n",
    "# Remove the user that only rated 1 books \n",
    "rpu = rat[['rating']].groupby('user_id').count()\n",
    "rat = rat.loc[rat.index.isin(rpu.loc[rpu.rating>1].index.values)]\n",
    "rat.shape\n",
    "\n",
    "\n"
   ]
  },
  {
   "cell_type": "markdown",
   "metadata": {},
   "source": [
    "# Duplicates? \n"
   ]
  },
  {
   "cell_type": "code",
   "execution_count": 20,
   "metadata": {},
   "outputs": [
    {
     "name": "stdout",
     "output_type": "stream",
     "text": [
      "Pre-processing done!\n"
     ]
    }
   ],
   "source": [
    "rat.to_csv(path+\"/data/processed/ratings.csv\")\n",
    "print('Pre-processing done!')"
   ]
  },
  {
   "cell_type": "markdown",
   "metadata": {},
   "source": [
    "---"
   ]
  }
 ],
 "metadata": {
  "kernelspec": {
   "display_name": "Python 3",
   "language": "python",
   "name": "python3"
  },
  "language_info": {
   "codemirror_mode": {
    "name": "ipython",
    "version": 3
   },
   "file_extension": ".py",
   "mimetype": "text/x-python",
   "name": "python",
   "nbconvert_exporter": "python",
   "pygments_lexer": "ipython3",
   "version": "3.6.4"
  }
 },
 "nbformat": 4,
 "nbformat_minor": 2
}
