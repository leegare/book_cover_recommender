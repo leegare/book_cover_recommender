{
 "cells": [
  {
   "cell_type": "markdown",
   "metadata": {},
   "source": [
    "https://www.youtube.com/watch?v=8rcVcH4OTdo&list=WL&index=75&t=0s"
   ]
  },
  {
   "cell_type": "code",
   "execution_count": 1,
   "metadata": {},
   "outputs": [
    {
     "name": "stderr",
     "output_type": "stream",
     "text": [
      "Using TensorFlow backend.\n"
     ]
    }
   ],
   "source": [
    "import os\n",
    "import os.path   # To check if the cover image file exists\n",
    "\n",
    "import pandas as pd\n",
    "import matplotlib.pyplot as plt\n",
    "import seaborn as sns\n",
    "# from scipy.misc import imread, imresize, imshow\n",
    "import numpy as np\n",
    "from time import time\n",
    "\n",
    "from PIL import Image # To resize the cover images.\n",
    "\n",
    "# from hashlib import md5\n",
    "# import glob # grab only jpegs\n",
    "import warnings\n",
    "warnings.filterwarnings('ignore')\n",
    "\n",
    "from myfunk import *\n",
    "\n",
    "%matplotlib inline"
   ]
  },
  {
   "cell_type": "code",
   "execution_count": 2,
   "metadata": {},
   "outputs": [],
   "source": [
    "def remove_covers(df, files, pth):\n",
    "    for f_name in files:\n",
    "        try:\n",
    "            os.remove(pth+f_name)\n",
    "        except: \n",
    "            pass\n",
    "    imfiles = [f for f in glob.glob(pth+\"*.jpg\")]\n",
    "    df = df.loc[~df.cover.isin(files)]\n",
    "    \n",
    "    if df.shape[0] == len(imfiles):\n",
    "        print('Success!')\n",
    "    else: \n",
    "        print('Ooops something went wrong in function remove_covers', data.shape, len(image_files))\n",
    "    return df, imfiles"
   ]
  },
  {
   "cell_type": "code",
   "execution_count": 3,
   "metadata": {},
   "outputs": [
    {
     "name": "stdout",
     "output_type": "stream",
     "text": [
      "/Users/iZbra1/Documents/K2DS/Projects/book_cover_recommender\n",
      "8939\n",
      "(8988, 8)\n"
     ]
    },
    {
     "data": {
      "text/html": [
       "<div>\n",
       "<style scoped>\n",
       "    .dataframe tbody tr th:only-of-type {\n",
       "        vertical-align: middle;\n",
       "    }\n",
       "\n",
       "    .dataframe tbody tr th {\n",
       "        vertical-align: top;\n",
       "    }\n",
       "\n",
       "    .dataframe thead th {\n",
       "        text-align: right;\n",
       "    }\n",
       "</style>\n",
       "<table border=\"1\" class=\"dataframe\">\n",
       "  <thead>\n",
       "    <tr style=\"text-align: right;\">\n",
       "      <th></th>\n",
       "      <th>isbn</th>\n",
       "      <th>authors</th>\n",
       "      <th>year</th>\n",
       "      <th>title</th>\n",
       "      <th>average_rating</th>\n",
       "      <th>ratings_count</th>\n",
       "      <th>image_url</th>\n",
       "      <th>cover</th>\n",
       "    </tr>\n",
       "    <tr>\n",
       "      <th>book_id</th>\n",
       "      <th></th>\n",
       "      <th></th>\n",
       "      <th></th>\n",
       "      <th></th>\n",
       "      <th></th>\n",
       "      <th></th>\n",
       "      <th></th>\n",
       "      <th></th>\n",
       "    </tr>\n",
       "  </thead>\n",
       "  <tbody>\n",
       "    <tr>\n",
       "      <th>1</th>\n",
       "      <td>439023483</td>\n",
       "      <td>suzanne collins</td>\n",
       "      <td>2008</td>\n",
       "      <td>the hunger games the hunger games 1</td>\n",
       "      <td>4.34</td>\n",
       "      <td>4780653</td>\n",
       "      <td>https://images.gr-assets.com/books/1447303603m...</td>\n",
       "      <td>the hunger games the hunger games 1 by suzanne...</td>\n",
       "    </tr>\n",
       "    <tr>\n",
       "      <th>2</th>\n",
       "      <td>439554934</td>\n",
       "      <td>jk rowling mary grandpre</td>\n",
       "      <td>1997</td>\n",
       "      <td>harry potter and the sorcerers stone harry pot...</td>\n",
       "      <td>4.44</td>\n",
       "      <td>4602479</td>\n",
       "      <td>https://images.gr-assets.com/books/1474154022m...</td>\n",
       "      <td>harry potter and the sorcerers stone harry pot...</td>\n",
       "    </tr>\n",
       "  </tbody>\n",
       "</table>\n",
       "</div>"
      ],
      "text/plain": [
       "              isbn                   authors  year  \\\n",
       "book_id                                              \n",
       "1        439023483           suzanne collins  2008   \n",
       "2        439554934  jk rowling mary grandpre  1997   \n",
       "\n",
       "                                                     title  average_rating  \\\n",
       "book_id                                                                      \n",
       "1                      the hunger games the hunger games 1            4.34   \n",
       "2        harry potter and the sorcerers stone harry pot...            4.44   \n",
       "\n",
       "         ratings_count                                          image_url  \\\n",
       "book_id                                                                     \n",
       "1              4780653  https://images.gr-assets.com/books/1447303603m...   \n",
       "2              4602479  https://images.gr-assets.com/books/1474154022m...   \n",
       "\n",
       "                                                     cover  \n",
       "book_id                                                     \n",
       "1        the hunger games the hunger games 1 by suzanne...  \n",
       "2        harry potter and the sorcerers stone harry pot...  "
      ]
     },
     "execution_count": 3,
     "metadata": {},
     "output_type": "execute_result"
    }
   ],
   "source": [
    "# Check Path\n",
    "\n",
    "project_name = 'book_cover_recommender'\n",
    "\n",
    "if not os.getcwd().endswith(project_name):\n",
    "    try: \n",
    "        ind = os.getcwd().index(project_name)\n",
    "        idx = len(os.getcwd()) - (ind+len(project_name))\n",
    "        path = os.getcwd()[:-idx]\n",
    "        print(path)\n",
    "        os.chdir(path)\n",
    "    except:\n",
    "        print('{} not found in path'.format(project_name))\n",
    "else: \n",
    "    path = os.getcwd()\n",
    "    print(path)\n",
    "\n",
    "pth = \"/Users/iZbra1/Documents/K2DS/Projects/book_cover_recommender/data/raw/covers/\"\n",
    "\n",
    "# Variables\n",
    "image_files = [f for f in glob.glob(path+\"/data/raw/covers/*.jpg\")]\n",
    "print(len(image_files))\n",
    "\n",
    "data = pd.read_csv(path+\"/data/raw/books.csv\", index_col=0)\n",
    "print(data.shape)\n",
    "data.head(2)"
   ]
  },
  {
   "cell_type": "markdown",
   "metadata": {},
   "source": [
    "#### Removing unwanted data"
   ]
  },
  {
   "cell_type": "code",
   "execution_count": 4,
   "metadata": {},
   "outputs": [
    {
     "data": {
      "text/plain": [
       "(49, 8)"
      ]
     },
     "execution_count": 4,
     "metadata": {},
     "output_type": "execute_result"
    }
   ],
   "source": [
    "data.loc[(data.year==0)].shape\n",
    "# for inst in data.loc[(data.year==0)].title.values:\n",
    "#     print(inst)"
   ]
  },
  {
   "cell_type": "code",
   "execution_count": 5,
   "metadata": {},
   "outputs": [
    {
     "name": "stdout",
     "output_type": "stream",
     "text": [
      "Success!\n"
     ]
    }
   ],
   "source": [
    "# There are values where the year is 0, for now we'll remove them. \n",
    "delete_covers = data.loc[data.year==0].cover.values\n",
    "data = data.loc[~(data.year==0)]\n",
    "data, image_files = remove_covers(data, delete_covers, pth)\n"
   ]
  },
  {
   "cell_type": "markdown",
   "metadata": {},
   "source": [
    "#### Check for dupes"
   ]
  },
  {
   "cell_type": "code",
   "execution_count": 10,
   "metadata": {},
   "outputs": [
    {
     "data": {
      "text/plain": [
       "(8939, 8)"
      ]
     },
     "execution_count": 10,
     "metadata": {},
     "output_type": "execute_result"
    }
   ],
   "source": [
    "data.shape"
   ]
  },
  {
   "cell_type": "code",
   "execution_count": 8,
   "metadata": {},
   "outputs": [
    {
     "data": {
      "text/plain": [
       "(0, 8)"
      ]
     },
     "execution_count": 8,
     "metadata": {},
     "output_type": "execute_result"
    }
   ],
   "source": [
    "data[data.duplicated(keep=False)].shape"
   ]
  },
  {
   "cell_type": "code",
   "execution_count": 7,
   "metadata": {},
   "outputs": [
    {
     "data": {
      "text/plain": [
       "(8939, 8)"
      ]
     },
     "execution_count": 7,
     "metadata": {},
     "output_type": "execute_result"
    }
   ],
   "source": [
    "data.drop_duplicates().shape"
   ]
  },
  {
   "cell_type": "code",
   "execution_count": 11,
   "metadata": {},
   "outputs": [
    {
     "name": "stdout",
     "output_type": "stream",
     "text": [
      "(8939, 8)\n"
     ]
    }
   ],
   "source": [
    "# data[data.duplicated(keep=False)]\n",
    "data = data.drop_duplicates()\n",
    "print(data.shape)"
   ]
  },
  {
   "cell_type": "code",
   "execution_count": 9,
   "metadata": {},
   "outputs": [
    {
     "data": {
      "text/html": [
       "<div>\n",
       "<style scoped>\n",
       "    .dataframe tbody tr th:only-of-type {\n",
       "        vertical-align: middle;\n",
       "    }\n",
       "\n",
       "    .dataframe tbody tr th {\n",
       "        vertical-align: top;\n",
       "    }\n",
       "\n",
       "    .dataframe thead th {\n",
       "        text-align: right;\n",
       "    }\n",
       "</style>\n",
       "<table border=\"1\" class=\"dataframe\">\n",
       "  <thead>\n",
       "    <tr style=\"text-align: right;\">\n",
       "      <th></th>\n",
       "      <th>isbn</th>\n",
       "      <th>authors</th>\n",
       "      <th>year</th>\n",
       "      <th>title</th>\n",
       "      <th>average_rating</th>\n",
       "      <th>ratings_count</th>\n",
       "      <th>image_url</th>\n",
       "      <th>cover</th>\n",
       "    </tr>\n",
       "    <tr>\n",
       "      <th>book_id</th>\n",
       "      <th></th>\n",
       "      <th></th>\n",
       "      <th></th>\n",
       "      <th></th>\n",
       "      <th></th>\n",
       "      <th></th>\n",
       "      <th></th>\n",
       "      <th></th>\n",
       "    </tr>\n",
       "  </thead>\n",
       "  <tbody>\n",
       "    <tr>\n",
       "      <th>1</th>\n",
       "      <td>439023483</td>\n",
       "      <td>suzanne collins</td>\n",
       "      <td>2008</td>\n",
       "      <td>the hunger games the hunger games 1</td>\n",
       "      <td>4.34</td>\n",
       "      <td>4780653</td>\n",
       "      <td>https://images.gr-assets.com/books/1447303603m...</td>\n",
       "      <td>the hunger games the hunger games 1 by suzanne...</td>\n",
       "    </tr>\n",
       "    <tr>\n",
       "      <th>2</th>\n",
       "      <td>439554934</td>\n",
       "      <td>jk rowling mary grandpre</td>\n",
       "      <td>1997</td>\n",
       "      <td>harry potter and the sorcerers stone harry pot...</td>\n",
       "      <td>4.44</td>\n",
       "      <td>4602479</td>\n",
       "      <td>https://images.gr-assets.com/books/1474154022m...</td>\n",
       "      <td>harry potter and the sorcerers stone harry pot...</td>\n",
       "    </tr>\n",
       "  </tbody>\n",
       "</table>\n",
       "</div>"
      ],
      "text/plain": [
       "              isbn                   authors  year  \\\n",
       "book_id                                              \n",
       "1        439023483           suzanne collins  2008   \n",
       "2        439554934  jk rowling mary grandpre  1997   \n",
       "\n",
       "                                                     title  average_rating  \\\n",
       "book_id                                                                      \n",
       "1                      the hunger games the hunger games 1            4.34   \n",
       "2        harry potter and the sorcerers stone harry pot...            4.44   \n",
       "\n",
       "         ratings_count                                          image_url  \\\n",
       "book_id                                                                     \n",
       "1              4780653  https://images.gr-assets.com/books/1447303603m...   \n",
       "2              4602479  https://images.gr-assets.com/books/1474154022m...   \n",
       "\n",
       "                                                     cover  \n",
       "book_id                                                     \n",
       "1        the hunger games the hunger games 1 by suzanne...  \n",
       "2        harry potter and the sorcerers stone harry pot...  "
      ]
     },
     "execution_count": 9,
     "metadata": {},
     "output_type": "execute_result"
    }
   ],
   "source": [
    "data.head(2)"
   ]
  },
  {
   "cell_type": "code",
   "execution_count": 12,
   "metadata": {},
   "outputs": [],
   "source": [
    "# Remove average_rating and ratings_count columns and cover_exists? \n",
    "data.drop(['average_rating','ratings_count'], axis=1, inplace=True)"
   ]
  },
  {
   "cell_type": "markdown",
   "metadata": {},
   "source": [
    "### Preprocess Image Files"
   ]
  },
  {
   "cell_type": "code",
   "execution_count": 13,
   "metadata": {},
   "outputs": [
    {
     "data": {
      "text/plain": [
       "20"
      ]
     },
     "execution_count": 13,
     "metadata": {},
     "output_type": "execute_result"
    }
   ],
   "source": [
    "### Make sure all downloaded images are encoded in RGB ~ 18s\n",
    "\n",
    "delete_covers = []\n",
    "\n",
    "for img_name in image_files: \n",
    "    try:\n",
    "        img = imread(img_name)\n",
    "    except:\n",
    "        print('\\nImage not found: ', img_name[77:])\n",
    "        pass\n",
    "    \n",
    "    if len(img.shape) != 3:\n",
    "        delete_covers.append(img_name[77:])\n",
    "    elif img.shape[2] != 3:\n",
    "        delete_covers.append(img_name[77:])\n",
    "\n",
    "len(delete_covers)"
   ]
  },
  {
   "cell_type": "code",
   "execution_count": 14,
   "metadata": {},
   "outputs": [
    {
     "name": "stdout",
     "output_type": "stream",
     "text": [
      "Success!\n"
     ]
    }
   ],
   "source": [
    "data, image_files = remove_covers(data, delete_covers, pth)"
   ]
  },
  {
   "cell_type": "code",
   "execution_count": 15,
   "metadata": {},
   "outputs": [
    {
     "data": {
      "text/plain": [
       "((8919, 6), 8919)"
      ]
     },
     "execution_count": 15,
     "metadata": {},
     "output_type": "execute_result"
    }
   ],
   "source": [
    "data.shape, len(image_files)"
   ]
  },
  {
   "cell_type": "code",
   "execution_count": 16,
   "metadata": {},
   "outputs": [],
   "source": [
    "def get_hash(image_files):\n",
    "    ds_dict={}\n",
    "    duplicates =[]\n",
    "    hash_ds=[]\n",
    "    for image in image_files:\n",
    "        # Change to gray, resize to array (1,900) and compute the intensity gradient.\n",
    "        ds=preprocess(image)\n",
    "        # Hash_ds is a list of lists, where each list is \"ds\"\n",
    "        hash_ds.append(ds)\n",
    "        # Hash the ds variable to hexa to be used next as a dict key\n",
    "        filehash = md5(ds).hexdigest()\n",
    "        if filehash not in ds_dict:\n",
    "            ds_dict[filehash] = image\n",
    "        else:\n",
    "            duplicates.append((image,ds_dict[filehash]))\n",
    "    return duplicates, ds_dict, hash_ds"
   ]
  },
  {
   "cell_type": "code",
   "execution_count": 17,
   "metadata": {},
   "outputs": [],
   "source": [
    "def preprocess(img):\n",
    "    '''Function that gets an image filename, loads it and preprocess it:\n",
    "        - Converts it to grayscale\n",
    "        - Resizes it and flattens it by row and columns\n",
    "        - Calculates the px to px change in intensity\n",
    "        Returns a 3d array of the preprocessed image'''\n",
    "    try:\n",
    "        img = imread(img)\n",
    "    except:\n",
    "        print('\\nImage not found: ', img[77:])\n",
    "        pass\n",
    "    # Take the average of the 3 channels to convert to grayscale\n",
    "    # Take care of any image with more than 3 channels\n",
    "    if img.shape[2] != 3:\n",
    "        gray = np.average(img, weights = [0.299, 0.587, 0.114, 0.5], axis=2)\n",
    "    else:\n",
    "        gray = np.average(img, weights = [0.299, 0.587, 0.114], axis=2)\n",
    "\n",
    "    ## ------ difference_score\n",
    "    # Resize\n",
    "    height=30\n",
    "    width=30\n",
    "    # Flatten by row\n",
    "    row_res = cv2.resize(gray, (height, width), interpolation=cv2.INTER_AREA).flatten()\n",
    "    # Flatten by col\n",
    "    col_res = cv2.resize(gray, (height, width), interpolation=cv2.INTER_AREA).flatten(\"F\")\n",
    "\n",
    "    # Gradient direction based on intensity\n",
    "    # Difference is a 1-D boolean array\n",
    "    # where True refers to a change in intensity from 1 px to another\n",
    "    difference_row = np.diff(row_res)\n",
    "    difference_col = np.diff(col_res)\n",
    "    # Look for change in intensities\n",
    "    # True for it does, False for it doesnt change\n",
    "    difference_row = difference_row > 0\n",
    "    difference_col = difference_col > 0\n",
    "    difference = np.vstack((difference_row, difference_col)).flatten()\n",
    "\n",
    "    return difference"
   ]
  },
  {
   "cell_type": "code",
   "execution_count": 18,
   "metadata": {},
   "outputs": [],
   "source": [
    "## --- Remove cover dupes (a.k.a covers that were not found and therefore have a blank image) ~ 30s\n",
    "\n",
    "# Any little change in intensity yields two hashes \n",
    "duplicates, ds_dict, hash_ds = get_hash(image_files)\n"
   ]
  },
  {
   "cell_type": "code",
   "execution_count": 19,
   "metadata": {},
   "outputs": [],
   "source": [
    "def consolidate_dupes(df, duplicates):\n",
    "    '''Function that receives a path to the books files\n",
    "    an a list of tuples as duplicates\n",
    "    It will select unique books from the list of tuples'''\n",
    "\n",
    "    dupes = []\n",
    "    # Comb the duplicates and get the unique titles\n",
    "    for file_names in duplicates:\n",
    "        if file_names[0] not in dupes:\n",
    "            dupes.append(file_names[0][77:])\n",
    "\n",
    "        if file_names[1] not in dupes:\n",
    "            dupes.append(file_names[1][77:])\n",
    "    return dupes"
   ]
  },
  {
   "cell_type": "code",
   "execution_count": 20,
   "metadata": {},
   "outputs": [
    {
     "name": "stdout",
     "output_type": "stream",
     "text": [
      "Success!\n",
      "Removed duplicates. 5836  books remaining ..\n"
     ]
    }
   ],
   "source": [
    "if len(duplicates)>0:\n",
    "    dupes = consolidate_dupes(data, duplicates)\n",
    "    data, image_files = remove_covers(data, dupes, pth)\n",
    "    print('Removed duplicates.', data.shape[0], ' books remaining ..')\n",
    "else: \n",
    "    print('All covers are unique')"
   ]
  },
  {
   "cell_type": "markdown",
   "metadata": {},
   "source": [
    "#### Sanity Checks"
   ]
  },
  {
   "cell_type": "code",
   "execution_count": 22,
   "metadata": {},
   "outputs": [
    {
     "name": "stdout",
     "output_type": "stream",
     "text": [
      "Sanity check passed!\n",
      "Sanity check #2 passed!\n"
     ]
    }
   ],
   "source": [
    "## ---- Check if all instances in data dataframe have their book covers. \n",
    "data['cover_exists'] = data.cover.apply(lambda x: os.path.isfile(pth+x))\n",
    "\n",
    "try: \n",
    "    assert data.loc[data.cover_exists==False].shape[0] == 0\n",
    "    print('Sanity check passed!')\n",
    "except AssertionError as e:\n",
    "    print('Number of images doesnt correspond to the number of books in the dataset', type(e))\n",
    "\n",
    "# Sanity check\n",
    "image_files = [f for f in glob.glob(pth+'*.jpg')]\n",
    "try:\n",
    "    assert len(image_files) == data.shape[0]\n",
    "    print('Sanity check #2 passed!')\n",
    "except AssertionError: \n",
    "    print('Number of cover images in storage:', len(image_files), '\\nNumber of instances:', data.shape[0])\n",
    "data.drop(['cover_exists'], axis=1, inplace=True)"
   ]
  },
  {
   "cell_type": "code",
   "execution_count": 23,
   "metadata": {},
   "outputs": [],
   "source": [
    "data.to_csv(path+\"/data/interim/books.csv\")\n",
    "data.to_csv(path+\"/data/processed/books.csv\")"
   ]
  },
  {
   "cell_type": "markdown",
   "metadata": {},
   "source": [
    "#### Ratings "
   ]
  },
  {
   "cell_type": "code",
   "execution_count": 24,
   "metadata": {},
   "outputs": [
    {
     "name": "stdout",
     "output_type": "stream",
     "text": [
      "Original datasize: (5654857, 4)\n",
      "Updated datasize: (4312842, 4)\n",
      "Final datasize: (4312833, 4)\n"
     ]
    }
   ],
   "source": [
    "# Let's drop those ratings to books that are no longer in the books.csv\n",
    "rat = pd.read_csv(path+\"/data/raw/ratings.csv\")\n",
    "print('Original datasize:',rat.shape)\n",
    "rat = rat.loc[rat.book_id.isin(data.index)]\n",
    "print('Updated datasize:',rat.shape)\n",
    "\n",
    "# COLD START: Remove the user that only rated 1 books \n",
    "rpu = rat[['user_id','rating']].groupby('user_id').count()\n",
    "rat = rat.loc[rat.user_id.isin(rpu.loc[rpu.rating>1].index.values)]\n",
    "# Check for dupes\n",
    "rat = rat.drop_duplicates()\n",
    "# Get the users available\n",
    "av_users = rat.user_id.unique() \n",
    "print('Final datasize:',rat.shape)\n",
    "\n",
    "rat.to_csv(path+\"/data/interim/ratings.csv\")\n",
    "rat.to_csv(path+\"/data/processed/ratings.csv\")\n"
   ]
  },
  {
   "cell_type": "markdown",
   "metadata": {},
   "source": [
    "#### To_read"
   ]
  },
  {
   "cell_type": "code",
   "execution_count": 25,
   "metadata": {},
   "outputs": [
    {
     "name": "stdout",
     "output_type": "stream",
     "text": [
      "Original datasize: (862323, 3)\n",
      "Updated datasize: (686447, 3)\n"
     ]
    }
   ],
   "source": [
    "# Let's drop those ratings to books that are no longer in the books.csv\n",
    "tr = pd.read_csv(path+\"/data/raw/to_read.csv\")\n",
    "print('Original datasize:',tr.shape)\n",
    "tr = tr.loc[(tr.book_id.isin(data.index))&(tr.user_id.isin(av_users))]\n",
    "print('Updated datasize:',tr.shape)\n",
    "\n",
    "tr.to_csv(path+\"/data/interim/to_read.csv\")\n",
    "tr.to_csv(path+\"/data/processed/to_read.csv\")"
   ]
  },
  {
   "cell_type": "markdown",
   "metadata": {},
   "source": [
    "### Preprocess data"
   ]
  },
  {
   "cell_type": "code",
   "execution_count": 26,
   "metadata": {},
   "outputs": [
    {
     "data": {
      "text/html": [
       "<div>\n",
       "<style scoped>\n",
       "    .dataframe tbody tr th:only-of-type {\n",
       "        vertical-align: middle;\n",
       "    }\n",
       "\n",
       "    .dataframe tbody tr th {\n",
       "        vertical-align: top;\n",
       "    }\n",
       "\n",
       "    .dataframe thead th {\n",
       "        text-align: right;\n",
       "    }\n",
       "</style>\n",
       "<table border=\"1\" class=\"dataframe\">\n",
       "  <thead>\n",
       "    <tr style=\"text-align: right;\">\n",
       "      <th></th>\n",
       "      <th>isbn</th>\n",
       "      <th>authors</th>\n",
       "      <th>year</th>\n",
       "      <th>title</th>\n",
       "      <th>image_url</th>\n",
       "      <th>cover</th>\n",
       "      <th>avg_rating</th>\n",
       "      <th>tot_rating</th>\n",
       "    </tr>\n",
       "    <tr>\n",
       "      <th>book_id</th>\n",
       "      <th></th>\n",
       "      <th></th>\n",
       "      <th></th>\n",
       "      <th></th>\n",
       "      <th></th>\n",
       "      <th></th>\n",
       "      <th></th>\n",
       "      <th></th>\n",
       "    </tr>\n",
       "  </thead>\n",
       "  <tbody>\n",
       "    <tr>\n",
       "      <th>1</th>\n",
       "      <td>439023483</td>\n",
       "      <td>suzanne collins</td>\n",
       "      <td>2008</td>\n",
       "      <td>the hunger games the hunger games 1</td>\n",
       "      <td>https://images.gr-assets.com/books/1447303603m...</td>\n",
       "      <td>the hunger games the hunger games 1 by suzanne...</td>\n",
       "      <td>4.279707</td>\n",
       "      <td>22806</td>\n",
       "    </tr>\n",
       "    <tr>\n",
       "      <th>2</th>\n",
       "      <td>439554934</td>\n",
       "      <td>jk rowling mary grandpre</td>\n",
       "      <td>1997</td>\n",
       "      <td>harry potter and the sorcerers stone harry pot...</td>\n",
       "      <td>https://images.gr-assets.com/books/1474154022m...</td>\n",
       "      <td>harry potter and the sorcerers stone harry pot...</td>\n",
       "      <td>4.351350</td>\n",
       "      <td>21850</td>\n",
       "    </tr>\n",
       "  </tbody>\n",
       "</table>\n",
       "</div>"
      ],
      "text/plain": [
       "              isbn                   authors  year  \\\n",
       "book_id                                              \n",
       "1        439023483           suzanne collins  2008   \n",
       "2        439554934  jk rowling mary grandpre  1997   \n",
       "\n",
       "                                                     title  \\\n",
       "book_id                                                      \n",
       "1                      the hunger games the hunger games 1   \n",
       "2        harry potter and the sorcerers stone harry pot...   \n",
       "\n",
       "                                                 image_url  \\\n",
       "book_id                                                      \n",
       "1        https://images.gr-assets.com/books/1447303603m...   \n",
       "2        https://images.gr-assets.com/books/1474154022m...   \n",
       "\n",
       "                                                     cover  avg_rating  \\\n",
       "book_id                                                                  \n",
       "1        the hunger games the hunger games 1 by suzanne...    4.279707   \n",
       "2        harry potter and the sorcerers stone harry pot...    4.351350   \n",
       "\n",
       "         tot_rating  \n",
       "book_id              \n",
       "1             22806  \n",
       "2             21850  "
      ]
     },
     "execution_count": 26,
     "metadata": {},
     "output_type": "execute_result"
    }
   ],
   "source": [
    "# Add average rating and total ratings\n",
    "data = pd.merge(data, \n",
    "         rat[['book_id','rating']].groupby('book_id').agg({\"rating\": [\"mean\",\"count\"]}),  \n",
    "         right_index=True, left_index=True)\n",
    "# Rename columns\n",
    "dc = list(data.columns.values[:-2]) \n",
    "dc.extend([\"avg_rating\", \"tot_rating\"])\n",
    "data.columns = dc\n",
    "data.head(2)"
   ]
  },
  {
   "cell_type": "markdown",
   "metadata": {},
   "source": [
    "### Preprocess the image covers"
   ]
  },
  {
   "cell_type": "code",
   "execution_count": 27,
   "metadata": {},
   "outputs": [
    {
     "data": {
      "text/plain": [
       "'/Users/iZbra1/Documents/K2DS/Projects/book_cover_recommender'"
      ]
     },
     "execution_count": 27,
     "metadata": {},
     "output_type": "execute_result"
    }
   ],
   "source": [
    "os.getcwd()"
   ]
  },
  {
   "cell_type": "code",
   "execution_count": 29,
   "metadata": {},
   "outputs": [],
   "source": [
    "# Get the size of the covers\n",
    "data['cover_size'] = data.cover.apply(lambda f: imread(pth+f).shape)\n",
    "\n"
   ]
  },
  {
   "cell_type": "code",
   "execution_count": 30,
   "metadata": {},
   "outputs": [
    {
     "name": "stdout",
     "output_type": "stream",
     "text": [
      "(5836, 9)\n"
     ]
    },
    {
     "data": {
      "text/html": [
       "<div>\n",
       "<style scoped>\n",
       "    .dataframe tbody tr th:only-of-type {\n",
       "        vertical-align: middle;\n",
       "    }\n",
       "\n",
       "    .dataframe tbody tr th {\n",
       "        vertical-align: top;\n",
       "    }\n",
       "\n",
       "    .dataframe thead th {\n",
       "        text-align: right;\n",
       "    }\n",
       "</style>\n",
       "<table border=\"1\" class=\"dataframe\">\n",
       "  <thead>\n",
       "    <tr style=\"text-align: right;\">\n",
       "      <th></th>\n",
       "      <th>isbn</th>\n",
       "      <th>authors</th>\n",
       "      <th>year</th>\n",
       "      <th>title</th>\n",
       "      <th>cover</th>\n",
       "      <th>avg_rating</th>\n",
       "      <th>tot_rating</th>\n",
       "      <th>height</th>\n",
       "      <th>width</th>\n",
       "    </tr>\n",
       "    <tr>\n",
       "      <th>book_id</th>\n",
       "      <th></th>\n",
       "      <th></th>\n",
       "      <th></th>\n",
       "      <th></th>\n",
       "      <th></th>\n",
       "      <th></th>\n",
       "      <th></th>\n",
       "      <th></th>\n",
       "      <th></th>\n",
       "    </tr>\n",
       "  </thead>\n",
       "  <tbody>\n",
       "    <tr>\n",
       "      <th>1</th>\n",
       "      <td>439023483</td>\n",
       "      <td>suzanne collins</td>\n",
       "      <td>2008</td>\n",
       "      <td>the hunger games the hunger games 1</td>\n",
       "      <td>the hunger games the hunger games 1 by suzanne...</td>\n",
       "      <td>4.279707</td>\n",
       "      <td>22806</td>\n",
       "      <td>146</td>\n",
       "      <td>98</td>\n",
       "    </tr>\n",
       "    <tr>\n",
       "      <th>2</th>\n",
       "      <td>439554934</td>\n",
       "      <td>jk rowling mary grandpre</td>\n",
       "      <td>1997</td>\n",
       "      <td>harry potter and the sorcerers stone harry pot...</td>\n",
       "      <td>harry potter and the sorcerers stone harry pot...</td>\n",
       "      <td>4.351350</td>\n",
       "      <td>21850</td>\n",
       "      <td>147</td>\n",
       "      <td>98</td>\n",
       "    </tr>\n",
       "    <tr>\n",
       "      <th>3</th>\n",
       "      <td>316015849</td>\n",
       "      <td>stephenie meyer</td>\n",
       "      <td>2005</td>\n",
       "      <td>twilight twilight 1</td>\n",
       "      <td>twilight twilight 1 by stephenie meyer.jpg</td>\n",
       "      <td>3.214341</td>\n",
       "      <td>16931</td>\n",
       "      <td>147</td>\n",
       "      <td>98</td>\n",
       "    </tr>\n",
       "    <tr>\n",
       "      <th>4</th>\n",
       "      <td>61120081</td>\n",
       "      <td>harper lee</td>\n",
       "      <td>1960</td>\n",
       "      <td>to kill a mockingbird</td>\n",
       "      <td>to kill a mockingbird by harper lee.jpg</td>\n",
       "      <td>4.329369</td>\n",
       "      <td>19088</td>\n",
       "      <td>151</td>\n",
       "      <td>98</td>\n",
       "    </tr>\n",
       "    <tr>\n",
       "      <th>5</th>\n",
       "      <td>743273567</td>\n",
       "      <td>f scott fitzgerald</td>\n",
       "      <td>1925</td>\n",
       "      <td>the great gatsby</td>\n",
       "      <td>the great gatsby by f scott fitzgerald.jpg</td>\n",
       "      <td>3.772224</td>\n",
       "      <td>16604</td>\n",
       "      <td>153</td>\n",
       "      <td>98</td>\n",
       "    </tr>\n",
       "  </tbody>\n",
       "</table>\n",
       "</div>"
      ],
      "text/plain": [
       "              isbn                   authors  year  \\\n",
       "book_id                                              \n",
       "1        439023483           suzanne collins  2008   \n",
       "2        439554934  jk rowling mary grandpre  1997   \n",
       "3        316015849           stephenie meyer  2005   \n",
       "4         61120081                harper lee  1960   \n",
       "5        743273567        f scott fitzgerald  1925   \n",
       "\n",
       "                                                     title  \\\n",
       "book_id                                                      \n",
       "1                      the hunger games the hunger games 1   \n",
       "2        harry potter and the sorcerers stone harry pot...   \n",
       "3                                      twilight twilight 1   \n",
       "4                                    to kill a mockingbird   \n",
       "5                                         the great gatsby   \n",
       "\n",
       "                                                     cover  avg_rating  \\\n",
       "book_id                                                                  \n",
       "1        the hunger games the hunger games 1 by suzanne...    4.279707   \n",
       "2        harry potter and the sorcerers stone harry pot...    4.351350   \n",
       "3               twilight twilight 1 by stephenie meyer.jpg    3.214341   \n",
       "4                  to kill a mockingbird by harper lee.jpg    4.329369   \n",
       "5               the great gatsby by f scott fitzgerald.jpg    3.772224   \n",
       "\n",
       "         tot_rating  height  width  \n",
       "book_id                             \n",
       "1             22806     146     98  \n",
       "2             21850     147     98  \n",
       "3             16931     147     98  \n",
       "4             19088     151     98  \n",
       "5             16604     153     98  "
      ]
     },
     "execution_count": 30,
     "metadata": {},
     "output_type": "execute_result"
    }
   ],
   "source": [
    "# Height vs width\n",
    "data['height'] = data.cover_size.apply(lambda x: int(x[0]))\n",
    "data['width'] = data.cover_size.apply(lambda x: int(x[1]))\n",
    "\n",
    "# Drop image_url and cover_size\n",
    "data.drop(['image_url','cover_size'], axis=1, inplace=True)\n",
    "# Save dataframe for EDA \n",
    "data.to_csv(path + \"/data/interim/books.csv\")\n",
    "print(data.shape)\n",
    "data.head()"
   ]
  },
  {
   "cell_type": "markdown",
   "metadata": {},
   "source": [
    "---"
   ]
  }
 ],
 "metadata": {
  "kernelspec": {
   "display_name": "Python 3",
   "language": "python",
   "name": "python3"
  },
  "language_info": {
   "codemirror_mode": {
    "name": "ipython",
    "version": 3
   },
   "file_extension": ".py",
   "mimetype": "text/x-python",
   "name": "python",
   "nbconvert_exporter": "python",
   "pygments_lexer": "ipython3",
   "version": "3.6.4"
  }
 },
 "nbformat": 4,
 "nbformat_minor": 2
}
